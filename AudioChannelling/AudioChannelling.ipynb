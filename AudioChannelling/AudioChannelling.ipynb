{
  "nbformat": 4,
  "nbformat_minor": 0,
  "metadata": {
    "colab": {
      "name": "AudioChannelling.ipynb",
      "provenance": []
    },
    "kernelspec": {
      "name": "python3",
      "display_name": "Python 3"
    },
    "accelerator": "GPU"
  },
  "cells": [
    {
      "cell_type": "code",
      "metadata": {
        "id": "PoVFtcPwSw5y",
        "colab_type": "code",
        "outputId": "79a86601-8f90-4792-a5db-179b8117be50",
        "colab": {
          "base_uri": "https://localhost:8080/",
          "height": 104
        }
      },
      "source": [
        "!pip install pydub  "
      ],
      "execution_count": 0,
      "outputs": [
        {
          "output_type": "stream",
          "text": [
            "Collecting pydub\n",
            "  Downloading https://files.pythonhosted.org/packages/7b/d1/fbfa79371a8cd9bb15c2e3c480d7e6e340ed5cc55005174e16f48418333a/pydub-0.24.1-py2.py3-none-any.whl\n",
            "Installing collected packages: pydub\n",
            "Successfully installed pydub-0.24.1\n"
          ],
          "name": "stdout"
        }
      ]
    },
    {
      "cell_type": "code",
      "metadata": {
        "id": "pNNsx10HTyqZ",
        "colab_type": "code",
        "colab": {}
      },
      "source": [
        "from pydub import AudioSegment"
      ],
      "execution_count": 0,
      "outputs": []
    },
    {
      "cell_type": "code",
      "metadata": {
        "id": "P0E7TJoURQh4",
        "colab_type": "code",
        "outputId": "7db96276-76b7-456b-d273-6f2e4d793a0c",
        "colab": {
          "base_uri": "https://localhost:8080/",
          "height": 34
        }
      },
      "source": [
        "phone_call = AudioSegment.from_file(\"/tmp/file_example_WAV_5MG.wav\")\n",
        "# Find number of channels\n",
        "phone_call.channels\n",
        "\n"
      ],
      "execution_count": 0,
      "outputs": [
        {
          "output_type": "execute_result",
          "data": {
            "text/plain": [
              "2"
            ]
          },
          "metadata": {
            "tags": []
          },
          "execution_count": 6
        }
      ]
    },
    {
      "cell_type": "code",
      "metadata": {
        "id": "ghWDglgYSwGk",
        "colab_type": "code",
        "outputId": "03c53418-d29d-496c-88f9-104a03ceeb1d",
        "colab": {
          "base_uri": "https://localhost:8080/",
          "height": 50
        }
      },
      "source": [
        "phone_call_channels = phone_call.split_to_mono()\n",
        "phone_call_channels"
      ],
      "execution_count": 0,
      "outputs": [
        {
          "output_type": "execute_result",
          "data": {
            "text/plain": [
              "[<pydub.audio_segment.AudioSegment at 0x7f366f61e630>,\n",
              " <pydub.audio_segment.AudioSegment at 0x7f366f61ee10>]"
            ]
          },
          "metadata": {
            "tags": []
          },
          "execution_count": 7
        }
      ]
    },
    {
      "cell_type": "code",
      "metadata": {
        "id": "KxDeXLrgUCTY",
        "colab_type": "code",
        "outputId": "db8e5bf0-cde9-4de4-d1fd-895f424d2b20",
        "colab": {
          "base_uri": "https://localhost:8080/",
          "height": 34
        }
      },
      "source": [
        "phone_call_channels[0].channels\n"
      ],
      "execution_count": 0,
      "outputs": [
        {
          "output_type": "execute_result",
          "data": {
            "text/plain": [
              "1"
            ]
          },
          "metadata": {
            "tags": []
          },
          "execution_count": 12
        }
      ]
    },
    {
      "cell_type": "code",
      "metadata": {
        "id": "SzZqLCbZUK8R",
        "colab_type": "code",
        "outputId": "610e0dbc-8d4c-4d1e-b8b9-97a8148b689c",
        "colab": {
          "base_uri": "https://localhost:8080/",
          "height": 34
        }
      },
      "source": [
        "print(phone_call_channels[0])\n",
        "dimmer_wav_file = phone_call_channels[1]"
      ],
      "execution_count": 0,
      "outputs": [
        {
          "output_type": "stream",
          "text": [
            "<pydub.audio_segment.AudioSegment object at 0x7f366f61e630>\n"
          ],
          "name": "stdout"
        }
      ]
    },
    {
      "cell_type": "code",
      "metadata": {
        "id": "KYUknLyOUdHo",
        "colab_type": "code",
        "colab": {}
      },
      "source": [
        "louder_wav_file = louder_wav_file + 10"
      ],
      "execution_count": 0,
      "outputs": []
    },
    {
      "cell_type": "code",
      "metadata": {
        "id": "tv9zDmWnUk4v",
        "colab_type": "code",
        "colab": {}
      },
      "source": [
        "dimmer_wav_file = dimmer_wav_file - 10\n",
        "#print(dimmer_wav_file)"
      ],
      "execution_count": 0,
      "outputs": []
    },
    {
      "cell_type": "code",
      "metadata": {
        "id": "cDMLk0i3XYaN",
        "colab_type": "code",
        "colab": {}
      },
      "source": [
        "#left_channel = AudioSegment.from_wav(\"sound1.wav\")\n",
        "#right_channel = AudioSegment.from_wav(\"sound1.wav\")\n",
        "\n",
        "stereo_sound = AudioSegment.from_mono_audiosegments(louder_wav_file, dimmer_wav_file)"
      ],
      "execution_count": 0,
      "outputs": []
    },
    {
      "cell_type": "code",
      "metadata": {
        "id": "voyoKFtFUpkN",
        "colab_type": "code",
        "outputId": "b022f31c-11ac-40a0-a386-6df88e1c1cff",
        "colab": {
          "base_uri": "https://localhost:8080/",
          "height": 34
        }
      },
      "source": [
        "stereo_sound.export(out_f=\"final.wav\", format=\"wav\")"
      ],
      "execution_count": 0,
      "outputs": [
        {
          "output_type": "execute_result",
          "data": {
            "text/plain": [
              "<_io.BufferedRandom name='final.wav'>"
            ]
          },
          "metadata": {
            "tags": []
          },
          "execution_count": 29
        }
      ]
    },
    {
      "cell_type": "code",
      "metadata": {
        "id": "ZfNauaPRXpTA",
        "colab_type": "code",
        "colab": {}
      },
      "source": [
        ""
      ],
      "execution_count": 0,
      "outputs": []
    }
  ]
}